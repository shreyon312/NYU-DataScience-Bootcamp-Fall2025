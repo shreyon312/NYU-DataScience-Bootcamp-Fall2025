{
  "nbformat": 4,
  "nbformat_minor": 0,
  "metadata": {
    "colab": {
      "provenance": []
    },
    "kernelspec": {
      "name": "python3",
      "display_name": "Python 3"
    },
    "language_info": {
      "name": "python"
    }
  },
  "cells": [
    {
      "cell_type": "markdown",
      "source": [
        "Define two custom numpy arrays, say A and B. Generate two new numpy arrays by stacking A and B vertically and horizontally."
      ],
      "metadata": {
        "id": "8Xivw06GkYQM"
      }
    },
    {
      "cell_type": "code",
      "execution_count": 6,
      "metadata": {
        "colab": {
          "base_uri": "https://localhost:8080/"
        },
        "id": "d2gP6wXWkQnh",
        "outputId": "1a8a2713-9c0f-426d-b2ce-812cdd04d8da"
      },
      "outputs": [
        {
          "output_type": "stream",
          "name": "stdout",
          "text": [
            "[[ 1  2  3]\n",
            " [ 4  5  6]\n",
            " [ 7  8  9]\n",
            " [ 8  9 10]\n",
            " [11 12 13]\n",
            " [14 15 16]]\n",
            "[[ 1  2  3  8  9 10]\n",
            " [ 4  5  6 11 12 13]\n",
            " [ 7  8  9 14 15 16]]\n"
          ]
        }
      ],
      "source": [
        "import numpy as np\n",
        "\n",
        "A = np.array([[1, 2, 3], [4, 5, 6], [7, 8, 9]])\n",
        "B = np.array([[8, 9, 10], [11, 12, 13], [14, 15, 16]])\n",
        "stacked_v = np.vstack((A, B))\n",
        "stacked_h = np.hstack((A, B))\n",
        "print(stacked_v)\n",
        "print(stacked_h)"
      ]
    },
    {
      "cell_type": "markdown",
      "source": [
        "Find common elements between A and B. [Hint: Intersection of two sets]"
      ],
      "metadata": {
        "id": "DbnZQ7EQlF4N"
      }
    },
    {
      "cell_type": "code",
      "source": [
        "intersection_array = np.intersect1d(A, B)\n",
        "print(intersection_array)"
      ],
      "metadata": {
        "colab": {
          "base_uri": "https://localhost:8080/"
        },
        "id": "L8AQNnBclMGY",
        "outputId": "5a2a4df1-7cf2-4309-b8a9-b4c491b85adc"
      },
      "execution_count": 7,
      "outputs": [
        {
          "output_type": "stream",
          "name": "stdout",
          "text": [
            "[8 9]\n"
          ]
        }
      ]
    },
    {
      "cell_type": "markdown",
      "source": [
        "Extract all numbers from A which are within a specific range. eg between 5 and 10. [Hint: np.where() might be useful or boolean masks]"
      ],
      "metadata": {
        "id": "L6kqY-uil327"
      }
    },
    {
      "cell_type": "code",
      "source": [
        "indices = np.where((A >= 5) & (A <= 10))\n",
        "result = A[indices]\n",
        "print(result)"
      ],
      "metadata": {
        "colab": {
          "base_uri": "https://localhost:8080/"
        },
        "id": "4uwDqFPkl5Eq",
        "outputId": "e9e9936a-bafb-4073-b9e2-8825c9041038"
      },
      "execution_count": 8,
      "outputs": [
        {
          "output_type": "stream",
          "name": "stdout",
          "text": [
            "[5 6 7 8 9]\n"
          ]
        }
      ]
    },
    {
      "cell_type": "markdown",
      "source": [
        "Filter the rows of iris_2d that has petallength (3rd column) > 1.5 and sepallength (1st column) < 5.0"
      ],
      "metadata": {
        "id": "yAKPQDtrnFvx"
      }
    },
    {
      "cell_type": "code",
      "source": [
        "url = 'https://archive.ics.uci.edu/ml/machine-learning-databases/iris/iris.data'\n",
        "iris_2d = np.genfromtxt(url, delimiter=',', dtype='float', usecols=[0,1,2,3])\n",
        "\n",
        "condition = (iris_2d[:, 2] > 1.5) & (iris_2d[:, 0] < 5.0)\n",
        "\n",
        "filtered_rows = iris_2d[condition]\n",
        "\n",
        "print(filtered_rows)"
      ],
      "metadata": {
        "colab": {
          "base_uri": "https://localhost:8080/"
        },
        "id": "beEinH8sm--2",
        "outputId": "b384f267-8dd3-4cab-a1a1-9279f834e0dd"
      },
      "execution_count": 9,
      "outputs": [
        {
          "output_type": "stream",
          "name": "stdout",
          "text": [
            "[[4.8 3.4 1.6 0.2]\n",
            " [4.8 3.4 1.9 0.2]\n",
            " [4.7 3.2 1.6 0.2]\n",
            " [4.8 3.1 1.6 0.2]\n",
            " [4.9 2.4 3.3 1. ]\n",
            " [4.9 2.5 4.5 1.7]]\n"
          ]
        }
      ]
    },
    {
      "cell_type": "markdown",
      "source": [
        "From df filter the 'Manufacturer', 'Model' and 'Type' for every 20th row starting from 1st (row 0)."
      ],
      "metadata": {
        "id": "CVFXXhxKnMOR"
      }
    },
    {
      "cell_type": "code",
      "source": [
        "import pandas as pd\n",
        "df = pd.read_csv('https://raw.githubusercontent.com/selva86/datasets/master/Cars93_miss.csv')\n",
        "\n",
        "result = df.loc[::20, ['Manufacturer', 'Model', 'Type']]\n",
        "\n",
        "print(result)"
      ],
      "metadata": {
        "colab": {
          "base_uri": "https://localhost:8080/"
        },
        "id": "nAhRPbUTnNPo",
        "outputId": "629660c2-f5ae-4f0b-fca7-9851485d7be1"
      },
      "execution_count": 12,
      "outputs": [
        {
          "output_type": "stream",
          "name": "stdout",
          "text": [
            "   Manufacturer    Model     Type\n",
            "0         Acura  Integra    Small\n",
            "20     Chrysler  LeBaron  Compact\n",
            "40        Honda  Prelude   Sporty\n",
            "60      Mercury   Cougar  Midsize\n",
            "80       Subaru   Loyale    Small\n"
          ]
        }
      ]
    },
    {
      "cell_type": "markdown",
      "source": [
        "Replace missing values in Min.Price and Max.Price columns with their respective mean."
      ],
      "metadata": {
        "id": "PaH_eSN-obxG"
      }
    },
    {
      "cell_type": "code",
      "source": [
        "df = pd.read_csv('https://raw.githubusercontent.com/selva86/datasets/master/Cars93_miss.csv')\n",
        "df[['Min.Price', 'Max.Price']] = df[['Min.Price', 'Max.Price']].fillna(df[['Min.Price', 'Max.Price']].mean())"
      ],
      "metadata": {
        "id": "nNcAUfVnoMgD"
      },
      "execution_count": 16,
      "outputs": []
    },
    {
      "cell_type": "markdown",
      "source": [
        "How to get the rows of a dataframe with row sum > 100?"
      ],
      "metadata": {
        "id": "s3Kcrdzao4BK"
      }
    },
    {
      "cell_type": "code",
      "source": [
        "df = pd.DataFrame(np.random.randint(10, 40, 60).reshape(-1, 4))\n",
        "row_sums = df.sum(axis=1)\n",
        "rows_with_sum_greater_than_100 = df[row_sums > 100]\n",
        "print(rows_with_sum_greater_than_100)"
      ],
      "metadata": {
        "colab": {
          "base_uri": "https://localhost:8080/"
        },
        "id": "8zZxGWg7o43A",
        "outputId": "089eb074-f4de-476f-aac3-29074e4058ed"
      },
      "execution_count": 18,
      "outputs": [
        {
          "output_type": "stream",
          "name": "stdout",
          "text": [
            "     0   1   2   3\n",
            "0   16  21  30  36\n",
            "3   12  35  28  27\n",
            "5   22  22  24  36\n",
            "6   38  18  26  23\n",
            "8   24  37  30  26\n",
            "11  20  18  39  31\n",
            "14  35  37  22  11\n"
          ]
        }
      ]
    }
  ]
}