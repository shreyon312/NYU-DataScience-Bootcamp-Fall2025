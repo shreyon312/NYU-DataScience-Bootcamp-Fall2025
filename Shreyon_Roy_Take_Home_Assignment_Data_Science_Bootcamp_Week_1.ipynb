{
  "nbformat": 4,
  "nbformat_minor": 0,
  "metadata": {
    "colab": {
      "provenance": []
    },
    "kernelspec": {
      "name": "python3",
      "display_name": "Python 3"
    },
    "language_info": {
      "name": "python"
    }
  },
  "cells": [
    {
      "cell_type": "markdown",
      "source": [
        "# Shreyon Roy Take Home Assignment Data Science Bootcamp Week 1"
      ],
      "metadata": {
        "id": "5WY1IG3wHSei"
      }
    },
    {
      "cell_type": "markdown",
      "source": [
        "Question 1. Write a program that takes a word as an input and print the number of vowels in the word."
      ],
      "metadata": {
        "id": "Kxw_4ho1Hfif"
      }
    },
    {
      "cell_type": "code",
      "execution_count": 1,
      "metadata": {
        "colab": {
          "base_uri": "https://localhost:8080/"
        },
        "id": "0UQRh3-oG9Tf",
        "outputId": "2ebdc8a6-22ea-4b58-b680-f84ce1e4170d"
      },
      "outputs": [
        {
          "output_type": "stream",
          "name": "stdout",
          "text": [
            "Enter word: Giraffe\n",
            "Number of vowels:  3\n"
          ]
        }
      ],
      "source": [
        "word = input(\"Enter word: \")\n",
        "word_lower = word.lower();\n",
        "print(\"Number of vowels: \", word_lower.count(\"a\") + word_lower.count(\"e\") + word_lower.count(\"i\") + word_lower.count(\"o\") + word_lower.count(\"u\"))"
      ]
    },
    {
      "cell_type": "markdown",
      "source": [
        "Question 2. Iterate through the following list of animals and print each one in all caps.\n",
        "\n",
        "  animals=['tiger', 'elephant', 'monkey', 'zebra', 'panther']"
      ],
      "metadata": {
        "id": "nrGpLscTKcZ4"
      }
    },
    {
      "cell_type": "code",
      "source": [
        "animals=['tiger', 'elephant', 'monkey', 'zebra', 'panther']\n",
        "for animal in animals:\n",
        "    print(animal.upper())"
      ],
      "metadata": {
        "colab": {
          "base_uri": "https://localhost:8080/"
        },
        "id": "r50tg_8LLhY4",
        "outputId": "8a1e006d-464d-4f2b-dea5-2691435d4f16"
      },
      "execution_count": 2,
      "outputs": [
        {
          "output_type": "stream",
          "name": "stdout",
          "text": [
            "TIGER\n",
            "ELEPHANT\n",
            "MONKEY\n",
            "ZEBRA\n",
            "PANTHER\n"
          ]
        }
      ]
    },
    {
      "cell_type": "markdown",
      "source": [
        "Question 3. Write a program that iterates from 1 to 20, printing each number and whether it's odd or even."
      ],
      "metadata": {
        "id": "8x7VsS1fSRI-"
      }
    },
    {
      "cell_type": "code",
      "source": [
        "for i in range(1, 21):\n",
        "    if i % 2 == 0:\n",
        "        print(f\"{i} is even\")\n",
        "    else:\n",
        "        print(f\"{i} is odd\")"
      ],
      "metadata": {
        "colab": {
          "base_uri": "https://localhost:8080/"
        },
        "id": "rqO4_h8BsGRN",
        "outputId": "f1960e9f-f445-4b22-c9e1-013a20a59f82"
      },
      "execution_count": 3,
      "outputs": [
        {
          "output_type": "stream",
          "name": "stdout",
          "text": [
            "1 is odd\n",
            "2 is even\n",
            "3 is odd\n",
            "4 is even\n",
            "5 is odd\n",
            "6 is even\n",
            "7 is odd\n",
            "8 is even\n",
            "9 is odd\n",
            "10 is even\n",
            "11 is odd\n",
            "12 is even\n",
            "13 is odd\n",
            "14 is even\n",
            "15 is odd\n",
            "16 is even\n",
            "17 is odd\n",
            "18 is even\n",
            "19 is odd\n",
            "20 is even\n"
          ]
        }
      ]
    },
    {
      "cell_type": "markdown",
      "source": [
        "Question 4. Write a program to check if a string is a palindrome or not."
      ],
      "metadata": {
        "id": "N3R5wlFnsVqj"
      }
    },
    {
      "cell_type": "code",
      "source": [
        "input_string = input(\"Enter a string: \")\n",
        "if input_string == input_string[::-1]:\n",
        "    print(\"The string is a palindrome.\")\n",
        "else:\n",
        "    print(\"The string is not a palindrome.\")"
      ],
      "metadata": {
        "colab": {
          "base_uri": "https://localhost:8080/"
        },
        "id": "fmC1o2v5sSkI",
        "outputId": "4edb5cde-0874-4703-931c-fc0cd067c228"
      },
      "execution_count": 11,
      "outputs": [
        {
          "output_type": "stream",
          "name": "stdout",
          "text": [
            "Enter a string: kayak\n",
            "The string is a palindrome.\n"
          ]
        }
      ]
    },
    {
      "cell_type": "markdown",
      "source": [
        "Question 5. Write a function sum_of_integers(a, b) that takes two integers as input from the user and returns their sum."
      ],
      "metadata": {
        "id": "HCtdBnqNsw_A"
      }
    },
    {
      "cell_type": "code",
      "source": [
        "def sum_of_integers(a, b):\n",
        "    return a + b"
      ],
      "metadata": {
        "id": "foFbKic2s07X"
      },
      "execution_count": 12,
      "outputs": []
    },
    {
      "cell_type": "code",
      "source": [
        "sum_of_integers(128, 67)"
      ],
      "metadata": {
        "colab": {
          "base_uri": "https://localhost:8080/"
        },
        "id": "vRZojSKLtc0s",
        "outputId": "a7e1a45c-b760-4cca-fe3b-0d58d3fce8d1"
      },
      "execution_count": 20,
      "outputs": [
        {
          "output_type": "execute_result",
          "data": {
            "text/plain": [
              "195"
            ]
          },
          "metadata": {},
          "execution_count": 20
        }
      ]
    }
  ]
}